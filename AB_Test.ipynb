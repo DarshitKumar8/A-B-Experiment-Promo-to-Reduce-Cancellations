{
 "cells": [
  {
   "cell_type": "markdown",
   "id": "711fbf3f-9074-4caf-b8eb-caac4f3594c9",
   "metadata": {},
   "source": [
    "# 🎯Goal "
   ]
  },
  {
   "cell_type": "markdown",
   "id": "61ddc3aa-946e-4c08-8222-e13cc380d12d",
   "metadata": {},
   "source": [
    "Design, simulate and analyze an A/B experiment that aims to **reduce 7-day cancellation rate**, produce clear results (p, CI, uplift), and give a rollout recommendation with estimated operational impact."
   ]
  },
  {
   "cell_type": "markdown",
   "id": "e316ab21-8438-47e4-8f0a-8186ecda8f19",
   "metadata": {},
   "source": [
    "## ⚖️ Objective & Primary Metric"
   ]
  },
  {
   "cell_type": "markdown",
   "id": "8251a644-1c7a-4be3-88c3-36e809cc24f1",
   "metadata": {},
   "source": [
    "1. Objective: Reduce 7-day cancellation rate.\n",
    "- We want fewer people cancelling their orders/rides within the 1st week. The whole experiment is built around testing a change that should make cancellations go down.\n",
    "\n",
    "2. Primary metric: 7-day cancellation rate per user.\n",
    "- The single number we’ll measure to check success — for each group (control or treatment), we count how many users cancelled within 7 days and divide by how many users were in that group.\n",
    "\n",
    "3. Guardrails: Completion rate, Refund rate\n",
    "- While reducing cancellations is good, we also watch other things so we don’t accidentally break something. For ex.: the promo might reduce cancellations but also cause fewer completed orders (bad) or more refunds (also bad). Those are safety checks."
   ]
  },
  {
   "cell_type": "markdown",
   "id": "fd811480-a7c4-4b4f-91ec-da0462b97d8e",
   "metadata": {},
   "source": [
    "## 🧪 Experiment design\n",
    "\n",
    "**Unit of randomization:** User.  \n",
    "- Each person (user) is the thing we flip a coin for. Some users get the new experience (treatment), some keep the old one (control). We don’t randomize sessions or orders — we randomize users.\n",
    "\n",
    "**Treatment vs Control:** Users are randomly assigned to `treatment` or `control`.\n",
    "- Treatment = the new thing you want to test (e.g., a new promo or booking flow). Control = the current thing. Random assignment means users are put into groups by chance so the groups are comparable.\n",
    "\n",
    "**Primary metric (per user):**  \n",
    "cancel_rate_7d = (# users who cancel within 7 days) / (# users in cohort)\n",
    "- If 1000 users try the product and 100 of them cancel within 7 days, the cancel rate is 100 / 1,000 = 0.10 = 10%.\n",
    "\n",
    "**Null / Alternative hypotheses:**  \n",
    "1. H0: μ_treatment = μ_control (no change)\n",
    "- The default assumption is that the new change does nothing; the cancel rate in treatment is the same as in control.\n",
    "\n",
    "2. H1: μ_treatment ≠ μ_control (two-sided)\n",
    "- The alternative idea is that the change does make the cancel rate different (could be higher or lower). We’re testing for any difference first. If you only care about decreases, you could test one-sided, but two-sided is more conservative.\n",
    "\n",
    "- If control has 10% cancel rate, H0 says treatment will also have 10%; H1 says treatment could be 9% or 11% — either would be a difference.\n",
    "\n",
    "**Statistical parameters / choices**  \n",
    "1. Baseline (control) cancellation rate: **p₁ = 0.10 (10%)** — chosen from historical estimates / industry benchmark.\n",
    "- This is our best guess for what the cancel rate would be if we don’t change anything.\n",
    "\n",
    "2. Minimum Detectable Effect (MDE): **Δ = 0.028 (2.8 percentage points absolute)** — smallest practically meaningful reduction we want to detect.\n",
    "- This is the smallest real change we care about. If cancellations drop by 2.8 points (e.g., from 10% to 7.2%), we think that’s worth acting on.\n",
    "\n",
    "3. Significance level (α): **0.05** (95% confidence).\n",
    "- We’re okay with a 5% chance of wrongly thinking the change worked when it didn’t (false alarm).\n",
    "\n",
    "4. Power: **0.80** (80% chance of detecting the MDE if it exists).  \n",
    "- If the true effect is at least the MDE, we want an 80% chance that our test will find it.\n",
    "\n",
    "5. Test: two-sample proportions z-test (two-sided).\n",
    "- The math test we’ll use compares two percentages (cancel rates) and tells us whether the observed difference could plausibly be due to random chance.\n",
    "\n",
    "**Why these choices?**  \n",
    "- Baseline reflects observed historical cancel rate (or a conservative estimate if historical data is noisy).  \n",
    "- MDE is chosen to reflect a business-meaningful change — small enough to be valuable, large enough to be measurable given resource constraints.  \n",
    "- Two-sided test is conservative; if you only care about reductions, you could use a one-sided test (note this lowers required sample size)."
   ]
  },
  {
   "cell_type": "markdown",
   "id": "c3da8db8-6b4c-43df-9e2d-20a5b73d619f",
   "metadata": {},
   "source": [
    "**What each number controls**\n",
    "\n",
    "1. Increase baseline or change it only if you have good data.\n",
    "2. Increase MDE → you need fewer users but you only detect larger effects.\n",
    "3. Decrease α (e.g., to 0.01) → fewer false positives but need more users.\n",
    "4. Increase power → less chance to miss a real effect, but need more users.\n",
    "5. Choose one-sided if you only care about decreases → reduces required sample size but must be justified."
   ]
  },
  {
   "cell_type": "code",
   "execution_count": 11,
   "id": "599a0ee3-3c4c-4893-a17f-df821c9ae3cb",
   "metadata": {},
   "outputs": [
    {
     "name": "stdout",
     "output_type": "stream",
     "text": [
      "Baseline (p_control) = 0.100\n",
      "MDE (abs) = 0.028 → p_treatment = 0.072\n",
      "Estimated sample size per arm (two-sided, power=0.8, alpha=0.05): 1563.9 → round up to 1564\n"
     ]
    }
   ],
   "source": [
    "# Sample size calculation using statsmodels\n",
    "\n",
    "from statsmodels.stats.power import NormalIndPower\n",
    "import numpy as np, math\n",
    "\n",
    "# Assumptions for the experiment\n",
    "p_control = 0.10          # Current cancellation rate = 10%\n",
    "mde_absolute = 0.028      # Minimum reduction we care about = 2.8 percentage points\n",
    "p_treatment = p_control - mde_absolute  # Target treatment rate = 7.2%\n",
    "alpha = 0.05              # Significance level (5% false positive risk)\n",
    "power = 0.80              # Power (80% chance to detect real effect if it exists)\n",
    "\n",
    "# Effect size calculation\n",
    "# \"Cohen’s h\" is a standard way to measure difference between two proportions\n",
    "def cohens_h(p1, p2):\n",
    "    return 2 * (np.arcsin(np.sqrt(p1)) - np.arcsin(np.sqrt(p2)))\n",
    "\n",
    "h = cohens_h(p_control, p_treatment)\n",
    "\n",
    "# 🧮 Calculate sample size per group (control + treatment)\n",
    "analysis = NormalIndPower()\n",
    "n_per_arm = analysis.solve_power(\n",
    "    effect_size=h,\n",
    "    power=power,\n",
    "    alpha=alpha,\n",
    "    alternative='two-sided'\n",
    ")\n",
    "\n",
    "# Round up, since we can’t have fractional users\n",
    "n_per_arm_ceil = math.ceil(n_per_arm)\n",
    "\n",
    "print(f\"Baseline (p_control) = {p_control:.3f}\")\n",
    "print(f\"MDE (abs) = {mde_absolute:.3f} → p_treatment = {p_treatment:.3f}\")\n",
    "print(f\"Estimated sample size per arm (two-sided, power={power}, alpha={alpha}): \"\n",
    "      f\"{n_per_arm:.1f} → round up to {n_per_arm_ceil}\")"
   ]
  },
  {
   "cell_type": "code",
   "execution_count": 12,
   "id": "35d6b067-9b56-484d-9092-032882d0b99c",
   "metadata": {},
   "outputs": [
    {
     "data": {
      "text/html": [
       "<div>\n",
       "<style scoped>\n",
       "    .dataframe tbody tr th:only-of-type {\n",
       "        vertical-align: middle;\n",
       "    }\n",
       "\n",
       "    .dataframe tbody tr th {\n",
       "        vertical-align: top;\n",
       "    }\n",
       "\n",
       "    .dataframe thead th {\n",
       "        text-align: right;\n",
       "    }\n",
       "</style>\n",
       "<table border=\"1\" class=\"dataframe\">\n",
       "  <thead>\n",
       "    <tr style=\"text-align: right;\">\n",
       "      <th></th>\n",
       "      <th>user_id</th>\n",
       "      <th>group</th>\n",
       "      <th>cancelled_7d</th>\n",
       "      <th>revenue</th>\n",
       "    </tr>\n",
       "  </thead>\n",
       "  <tbody>\n",
       "    <tr>\n",
       "      <th>0</th>\n",
       "      <td>0</td>\n",
       "      <td>control</td>\n",
       "      <td>0</td>\n",
       "      <td>182.48</td>\n",
       "    </tr>\n",
       "    <tr>\n",
       "      <th>1</th>\n",
       "      <td>1</td>\n",
       "      <td>control</td>\n",
       "      <td>1</td>\n",
       "      <td>170.59</td>\n",
       "    </tr>\n",
       "    <tr>\n",
       "      <th>2</th>\n",
       "      <td>2</td>\n",
       "      <td>control</td>\n",
       "      <td>0</td>\n",
       "      <td>41.11</td>\n",
       "    </tr>\n",
       "    <tr>\n",
       "      <th>3</th>\n",
       "      <td>3</td>\n",
       "      <td>control</td>\n",
       "      <td>0</td>\n",
       "      <td>130.98</td>\n",
       "    </tr>\n",
       "    <tr>\n",
       "      <th>4</th>\n",
       "      <td>4</td>\n",
       "      <td>control</td>\n",
       "      <td>0</td>\n",
       "      <td>219.83</td>\n",
       "    </tr>\n",
       "  </tbody>\n",
       "</table>\n",
       "</div>"
      ],
      "text/plain": [
       "   user_id    group  cancelled_7d  revenue\n",
       "0        0  control             0   182.48\n",
       "1        1  control             1   170.59\n",
       "2        2  control             0    41.11\n",
       "3        3  control             0   130.98\n",
       "4        4  control             0   219.83"
      ]
     },
     "execution_count": 12,
     "metadata": {},
     "output_type": "execute_result"
    }
   ],
   "source": [
    "# Simulate a fake A/B test dataset for practice\n",
    "import numpy as np, pandas as pd\n",
    "np.random.seed(42)  # fix the seed so results are reproducible\n",
    "\n",
    "# Number of users per group\n",
    "n_per = 30000  # (tip: set this = n_per_arm from sample size calc)\n",
    "\n",
    "# Create user IDs (0 ... 59,999)\n",
    "user_id = np.arange(n_per*2)\n",
    "\n",
    "# Assign half to control, half to treatment\n",
    "group = np.array(['control']*n_per + ['treatment']*n_per)\n",
    "\n",
    "# Set cancellation probabilities\n",
    "p_control = 0.10          # baseline 10% cancel rate\n",
    "mde_absolute = 0.028      # improvement we want (2.8 pp)\n",
    "p_treatment = p_control - mde_absolute  # target = 7.2%\n",
    "\n",
    "# For each user, draw whether they cancel (1) or not (0)\n",
    "cancel_prob = np.concatenate([\n",
    "    np.full(n_per, p_control),     # all control users get 10% prob\n",
    "    np.full(n_per, p_treatment)    # all treatment users get 7.2% prob\n",
    "])\n",
    "cancelled_7d = np.random.binomial(1, cancel_prob)\n",
    "\n",
    "# Simulate some order revenue numbers\n",
    "# assume avg ₹150 per order, std deviation = ₹60\n",
    "revenue = np.round(np.random.normal(150, 60, size=n_per*2), 2)\n",
    "\n",
    "# Put into a DataFrame\n",
    "df = pd.DataFrame({\n",
    "    'user_id': user_id,\n",
    "    'group': group,\n",
    "    'cancelled_7d': cancelled_7d,\n",
    "    'revenue': revenue\n",
    "})\n",
    "\n",
    "df.to_csv('sim_ab_data.csv', index=False)\n",
    "df.head()"
   ]
  },
  {
   "cell_type": "code",
   "execution_count": 13,
   "id": "a43556d9-794f-4a45-9c0f-94756f4b96e2",
   "metadata": {},
   "outputs": [
    {
     "data": {
      "text/html": [
       "<div>\n",
       "<style scoped>\n",
       "    .dataframe tbody tr th:only-of-type {\n",
       "        vertical-align: middle;\n",
       "    }\n",
       "\n",
       "    .dataframe tbody tr th {\n",
       "        vertical-align: top;\n",
       "    }\n",
       "\n",
       "    .dataframe thead th {\n",
       "        text-align: right;\n",
       "    }\n",
       "</style>\n",
       "<table border=\"1\" class=\"dataframe\">\n",
       "  <thead>\n",
       "    <tr style=\"text-align: right;\">\n",
       "      <th></th>\n",
       "      <th>group</th>\n",
       "      <th>n</th>\n",
       "      <th>cancels</th>\n",
       "      <th>cancel_rate</th>\n",
       "      <th>avg_revenue</th>\n",
       "    </tr>\n",
       "  </thead>\n",
       "  <tbody>\n",
       "    <tr>\n",
       "      <th>0</th>\n",
       "      <td>control</td>\n",
       "      <td>30000</td>\n",
       "      <td>2970</td>\n",
       "      <td>0.099000</td>\n",
       "      <td>150.231000</td>\n",
       "    </tr>\n",
       "    <tr>\n",
       "      <th>1</th>\n",
       "      <td>treatment</td>\n",
       "      <td>30000</td>\n",
       "      <td>2125</td>\n",
       "      <td>0.070833</td>\n",
       "      <td>150.197091</td>\n",
       "    </tr>\n",
       "  </tbody>\n",
       "</table>\n",
       "</div>"
      ],
      "text/plain": [
       "       group      n  cancels  cancel_rate  avg_revenue\n",
       "0    control  30000     2970     0.099000   150.231000\n",
       "1  treatment  30000     2125     0.070833   150.197091"
      ]
     },
     "execution_count": 13,
     "metadata": {},
     "output_type": "execute_result"
    }
   ],
   "source": [
    "# Check that randomization worked and basic stats per group\n",
    "summary = df.groupby('group').agg(\n",
    "    n=('user_id','count'),                   # Number of users in each group\n",
    "    cancels=('cancelled_7d','sum'),         # Total cancellations in each group\n",
    "    cancel_rate=('cancelled_7d','mean'),    # Average cancellation rate per group\n",
    "    avg_revenue=('revenue','mean')          # Average revenue per user in each group\n",
    ").reset_index()\n",
    "\n",
    "summary"
   ]
  },
  {
   "cell_type": "code",
   "execution_count": 14,
   "id": "4555aa57-5a4b-4a13-8af9-00b9becd3195",
   "metadata": {},
   "outputs": [
    {
     "name": "stdout",
     "output_type": "stream",
     "text": [
      "Observed rates:\n",
      " control: 0.0990 (2970/30000)  CI:(0.09567155054104454, 0.10243113130982529)\n",
      " treatment: 0.0708 (2125/30000)  CI:(0.06798490572534063, 0.07379165527465512)\n",
      "\n",
      "Difference (treatment - control): -0.0282\n",
      "Absolute uplift (control - treatment): 0.0282 (2.82 percentage points)\n",
      "Relative uplift: 28.5%\n",
      "\n",
      "z-stat: 12.375, p-value: 3.557e-35\n",
      "95% CI for difference (treatment - control): [-0.0326, -0.0237]\n"
     ]
    }
   ],
   "source": [
    "# Counts of cancellations and number of users per group\n",
    "counts = df.groupby('group')['cancelled_7d'].sum().values  # total cancels [control, treatment]\n",
    "nobs = df.groupby('group')['cancelled_7d'].count().values  # total users [control, treatment]\n",
    "\n",
    "# z-test for difference in proportions (two-sided)\n",
    "stat, pval = proportions_ztest(counts, nobs, alternative='two-sided')\n",
    "# This tells us whether the observed difference in cancel rates is likely due to chance\n",
    "\n",
    "# Observed cancellation rates\n",
    "p_control_obs = counts[0]/nobs[0]  # cancel rate in control group\n",
    "p_treat_obs = counts[1]/nobs[1]    # cancel rate in treatment group\n",
    "diff = p_treat_obs - p_control_obs # treatment minus control\n",
    "abs_uplift = p_control_obs - p_treat_obs # absolute reduction in cancel rate\n",
    "rel_uplift = abs_uplift / p_control_obs  # relative reduction (percentage)\n",
    "\n",
    "# Confidence intervals for each group\n",
    "ci_control = proportion_confint(counts[0], nobs[0], alpha=0.05, method='wilson')\n",
    "ci_treat = proportion_confint(counts[1], nobs[1], alpha=0.05, method='wilson')\n",
    "\n",
    "# Approximate 95% CI for difference in cancel rates\n",
    "se_diff = (p_control_obs*(1-p_control_obs)/nobs[0] + p_treat_obs*(1-p_treat_obs)/nobs[1])**0.5\n",
    "ci_diff_low = diff - 1.96*se_diff\n",
    "ci_diff_high = diff + 1.96*se_diff\n",
    "\n",
    "print(\"Observed rates:\")\n",
    "print(f\" control: {p_control_obs:.4f} ({counts[0]}/{nobs[0]})  CI:{ci_control}\")\n",
    "print(f\" treatment: {p_treat_obs:.4f} ({counts[1]}/{nobs[1]})  CI:{ci_treat}\")\n",
    "print()\n",
    "print(f\"Difference (treatment - control): {diff:.4f}\")\n",
    "print(f\"Absolute uplift (control - treatment): {abs_uplift:.4f} ({abs_uplift*100:.2f} percentage points)\")\n",
    "print(f\"Relative uplift: {rel_uplift*100:.1f}%\")\n",
    "print()\n",
    "print(f\"z-stat: {stat:.3f}, p-value: {pval:.3e}\")\n",
    "print(f\"95% CI for difference (treatment - control): [{ci_diff_low:.4f}, {ci_diff_high:.4f}]\")"
   ]
  },
  {
   "cell_type": "code",
   "execution_count": 15,
   "id": "518ab857-8cf8-4619-8fda-b56020796531",
   "metadata": {},
   "outputs": [
    {
     "data": {
      "image/png": "[encoded data removed]",
      "text/plain": [
       "<Figure size 500x400 with 1 Axes>"
      ]
     },
     "metadata": {},
     "output_type": "display_data"
    }
   ],
   "source": [
    "import matplotlib.pyplot as plt\n",
    "\n",
    "# Rates for the two groups\n",
    "rates = [p_control_obs, p_treat_obs]  # cancel rate control, treatment\n",
    "labels = ['control','treatment']\n",
    "\n",
    "# Compute error bars from confidence intervals\n",
    "err_low = [rates[0]-ci_control[0], rates[1]-ci_treat[0]]   # distance from lower CI bound\n",
    "err_high = [ci_control[1]-rates[0], ci_treat[1]-rates[1]]   # distance from upper CI bound\n",
    "yerr = [[err_low[0], err_low[1]], [err_high[0], err_high[1]]]  # matplotlib expects [[lower], [upper]]\n",
    "\n",
    "# Create plot\n",
    "plt.figure(figsize=(5,4))\n",
    "plt.bar(labels, rates)  # bar chart\n",
    "plt.errorbar(labels, rates, yerr=yerr, fmt='none', capsize=6)  # add CI as error bars\n",
    "plt.ylabel('7-day cancellation rate')\n",
    "plt.title('Control vs Treatment (with 95% CI)')\n",
    "plt.tight_layout()\n",
    "plt.savefig('screenshot.png', dpi=150)\n",
    "plt.show()"
   ]
  },
  {
   "cell_type": "code",
   "execution_count": 16,
   "id": "50742314-0909-43f2-b32e-df0a41ac9149",
   "metadata": {},
   "outputs": [
    {
     "name": "stdout",
     "output_type": "stream",
     "text": [
      "Absolute uplift (pp): 2.82 pp\n",
      "Prevented cancels/month (MAU=1000000): 28,167\n",
      "Estimated revenue preserved/month: ₹2,112,500\n",
      "Estimated ops savings/month (contact handling): ₹1,408,333\n",
      "\n",
      "Recommendation:\n",
      " Observed absolute reduction of 2.82pp (relative 28.5%). Recommend phased rollout: 10% → 30% → 70% → 100% with guardrail checks on completion rate and refund rate at each stage.\n"
     ]
    }
   ],
   "source": [
    "# Assumptions about business metrics\n",
    "MAU = 1_000_000  # Monthly Active Users we are targeting\n",
    "avg_order_value = 150.0  # Average value of an order in ₹\n",
    "orders_per_user_7d = 0.5  # Avg number of orders per user in 7 days\n",
    "avg_cost_per_contact = 50.0  # Ops cost per support contact in ₹\n",
    "\n",
    "# Delta / effect from A/B test\n",
    "delta = abs_uplift  # absolute reduction in cancellation rate\n",
    "\n",
    "# Compute how many cancels we prevent each month\n",
    "prevented_cancels_per_month = delta * MAU\n",
    "\n",
    "# Estimate revenue preserved due to fewer cancellations\n",
    "revenue_preserved = prevented_cancels_per_month * avg_order_value * orders_per_user_7d\n",
    "\n",
    "# Estimate operations cost saved (fewer support contacts)\n",
    "ops_savings = prevented_cancels_per_month * avg_cost_per_contact\n",
    "\n",
    "print(f\"Absolute uplift (pp): {abs_uplift*100:.2f} pp\")  # absolute change in percentage points\n",
    "print(f\"Prevented cancels/month (MAU={MAU}): {prevented_cancels_per_month:,.0f}\")\n",
    "print(f\"Estimated revenue preserved/month: ₹{revenue_preserved:,.0f}\")\n",
    "print(f\"Estimated ops savings/month (contact handling): ₹{ops_savings:,.0f}\")\n",
    "\n",
    "# Recommendation for rollout\n",
    "recommendation = f\"Observed absolute reduction of {abs_uplift*100:.2f}pp (relative {rel_uplift*100:.1f}%). Recommend phased rollout: 10% → 30% → 70% → 100% with guardrail checks on completion rate and refund rate at each stage.\"\n",
    "print(\"\\nRecommendation:\\n\", recommendation)"
   ]
  },
  {
   "cell_type": "markdown",
   "id": "8d562b0c-720d-4a4e-9416-bf1b64bcf5f0",
   "metadata": {},
   "source": [
    "## Conclusion\n",
    "\n",
    "- Observed control rate = X% and treatment rate = Y% (see above).  \n",
    "- Absolute reduction = A percentage points; Relative reduction = B%.  \n",
    "- p-value = P (if p < 0.05 then statistically significant).  \n",
    "- 95% CI for the reduction = [L, U] percentage points.\n",
    "\n",
    "**Recommendation:** Based on the above, I recommend a phased rollout beginning at 10% traffic, monitoring guardrails (completion rate, refund rate, support contact rate) daily for 7 days at each phase. If guardrails are clean, expand to 30%, then 70%, then 100%."
   ]
  },
  {
   "cell_type": "code",
   "execution_count": null,
   "id": "06789b32-da21-40f1-9e01-83bd1d241bb0",
   "metadata": {},
   "outputs": [],
   "source": []
  }
 ],
 "metadata": {
  "kernelspec": {
   "display_name": "Python 3 (ipykernel)",
   "language": "python",
   "name": "python3"
  },
  "language_info": {
   "codemirror_mode": {
    "name": "ipython",
    "version": 3
   },
   "file_extension": ".py",
   "mimetype": "text/x-python",
   "name": "python",
   "nbconvert_exporter": "python",
   "pygments_lexer": "ipython3",
   "version": "3.13.3"
  }
 },
 "nbformat": 4,
 "nbformat_minor": 5
}
